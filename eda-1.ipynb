{
 "cells": [
  {
   "cell_type": "markdown",
   "id": "0",
   "metadata": {},
   "source": [
    "Get only review text for sentiment analysis"
   ]
  },
  {
   "cell_type": "code",
   "execution_count": null,
   "id": "1",
   "metadata": {},
   "outputs": [],
   "source": [
    "import pandas as pd\n",
    "import re\n",
    "import math\n",
    "\n",
    "data = pd.read_csv(\"./kinton_reviews.csv\")\n",
    "train = pd.read_csv(\"./data/train.csv\")\n",
    "\n",
    "\n",
    "# get reviews from after the ice cream promotion ended (estimation)\n",
    "data1 = data[0:283]\n",
    "\n",
    "# retrieve only the text\n",
    "reviews1 = data1[[\"review_rating\",\"review_text\"]].dropna()\n",
    "\n",
    "reviews1\n"
   ]
  },
  {
   "cell_type": "markdown",
   "id": "2",
   "metadata": {},
   "source": [
    "Start building sentiment analysis model"
   ]
  },
  {
   "cell_type": "code",
   "execution_count": null,
   "id": "3",
   "metadata": {},
   "outputs": [],
   "source": [
    "from textblob import TextBlob\n",
    "from deep_translator import GoogleTranslator\n",
    "import langid\n",
    "\n",
    "# use textblob to get whethere a review is positive or negative\n",
    "train[\"polarity\"] = None\n",
    "\n",
    "def getPolarity(text):\n",
    "    text = str(text)\n",
    "    \n",
    "    # detect language\n",
    "    try:\n",
    "        lang = langid.classify(text)[0]\n",
    "    except Exception:\n",
    "        lang = 'en'\n",
    "    \n",
    "    if lang != 'en':\n",
    "        text = GoogleTranslator(source = 'auto', target = 'en').translate(text = text)\n",
    "    \n",
    "    return TextBlob(text).sentiment.polarity\n",
    "\n",
    "train['polarity'] = train['review'].apply(getPolarity)\n",
    "train['sentiment'] = train['polarity'].apply(lambda x: 'positive' if x > 0.2 else ('negative' if x < 0.2 else 'neutral'))\n",
    "\n",
    "train\n",
    "    \n",
    "    \n",
    "    "
   ]
  },
  {
   "cell_type": "code",
   "execution_count": null,
   "id": "4",
   "metadata": {},
   "outputs": [],
   "source": []
  }
 ],
 "metadata": {
  "kernelspec": {
   "display_name": "venv",
   "language": "python",
   "name": "python3"
  },
  "language_info": {
   "codemirror_mode": {
    "name": "ipython",
    "version": 3
   },
   "file_extension": ".py",
   "mimetype": "text/x-python",
   "name": "python",
   "nbconvert_exporter": "python",
   "pygments_lexer": "ipython3",
   "version": "3.12.7"
  }
 },
 "nbformat": 4,
 "nbformat_minor": 5
}
